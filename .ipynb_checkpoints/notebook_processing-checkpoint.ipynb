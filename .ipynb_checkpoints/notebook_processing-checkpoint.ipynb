{
 "cells": [
  {
   "cell_type": "markdown",
   "metadata": {},
   "source": [
    "## 0. Loading dependences"
   ]
  },
  {
   "cell_type": "code",
   "execution_count": 1,
   "metadata": {
    "collapsed": false
   },
   "outputs": [],
   "source": [
    "import numpy as np\n",
    "import matplotlib.pyplot as plt\n",
    "import cv2\n",
    "import os"
   ]
  },
  {
   "cell_type": "markdown",
   "metadata": {},
   "source": [
    "## 1. Reading videos in folders to create output"
   ]
  },
  {
   "cell_type": "code",
   "execution_count": 2,
   "metadata": {
    "collapsed": false,
    "scrolled": false
   },
   "outputs": [
    {
     "name": "stdout",
     "output_type": "stream",
     "text": [
      "PROCESSED: C:/Users/vsadykov/OneDrive - njit.edu/_Video_travel/day3_1/LOCK0000.mov\n",
      "PROCESSED: C:/Users/vsadykov/OneDrive - njit.edu/_Video_travel/day3_1/LOCK0001.mov\n",
      "PROCESSED: C:/Users/vsadykov/OneDrive - njit.edu/_Video_travel/day3_1/LOCK0002.mov\n",
      "PROCESSED: C:/Users/vsadykov/OneDrive - njit.edu/_Video_travel/day3_1/LOCK0003.mov\n",
      "PROCESSED: C:/Users/vsadykov/OneDrive - njit.edu/_Video_travel/day3_1/LOCK0004.mov\n",
      "PROCESSED: C:/Users/vsadykov/OneDrive - njit.edu/_Video_travel/day3_1/LOCK0005.mov\n",
      "PROCESSED: C:/Users/vsadykov/OneDrive - njit.edu/_Video_travel/day3_1/LOCK0006.mov\n",
      "PROCESSED: C:/Users/vsadykov/OneDrive - njit.edu/_Video_travel/day3_1/LOCK0007.mov\n"
     ]
    },
    {
     "ename": "KeyboardInterrupt",
     "evalue": "",
     "output_type": "error",
     "traceback": [
      "\u001b[0;31m---------------------------------------------------------------------------\u001b[0m",
      "\u001b[0;31mKeyboardInterrupt\u001b[0m                         Traceback (most recent call last)",
      "\u001b[0;32m<ipython-input-2-f9279094f4f3>\u001b[0m in \u001b[0;36m<module>\u001b[0;34m()\u001b[0m\n\u001b[1;32m     42\u001b[0m     \u001b[0mcap\u001b[0m \u001b[1;33m=\u001b[0m \u001b[0mcv2\u001b[0m\u001b[1;33m.\u001b[0m\u001b[0mVideoCapture\u001b[0m\u001b[1;33m(\u001b[0m\u001b[0mvideo_file\u001b[0m\u001b[1;33m)\u001b[0m\u001b[1;33m\u001b[0m\u001b[0m\n\u001b[1;32m     43\u001b[0m     \u001b[1;32mwhile\u001b[0m\u001b[1;33m(\u001b[0m\u001b[0mcap\u001b[0m\u001b[1;33m.\u001b[0m\u001b[0misOpened\u001b[0m\u001b[1;33m(\u001b[0m\u001b[1;33m)\u001b[0m\u001b[1;33m)\u001b[0m\u001b[1;33m:\u001b[0m\u001b[1;33m\u001b[0m\u001b[0m\n\u001b[0;32m---> 44\u001b[0;31m         \u001b[0mret\u001b[0m\u001b[1;33m,\u001b[0m \u001b[0mframe\u001b[0m \u001b[1;33m=\u001b[0m \u001b[0mcap\u001b[0m\u001b[1;33m.\u001b[0m\u001b[0mread\u001b[0m\u001b[1;33m(\u001b[0m\u001b[1;33m)\u001b[0m\u001b[1;33m\u001b[0m\u001b[0m\n\u001b[0m\u001b[1;32m     45\u001b[0m         \u001b[0mnframes_orig\u001b[0m \u001b[1;33m+=\u001b[0m \u001b[1;36m1\u001b[0m\u001b[1;33m\u001b[0m\u001b[0m\n\u001b[1;32m     46\u001b[0m         \u001b[1;32mif\u001b[0m \u001b[1;33m(\u001b[0m\u001b[0mret\u001b[0m \u001b[1;33m==\u001b[0m \u001b[0mFalse\u001b[0m\u001b[1;33m)\u001b[0m\u001b[1;33m:\u001b[0m \u001b[1;32mbreak\u001b[0m\u001b[1;33m\u001b[0m\u001b[0m\n",
      "\u001b[0;31mKeyboardInterrupt\u001b[0m: "
     ]
    }
   ],
   "source": [
    "CADENCE = 20            # cadence of new video (designed for 30fps)\n",
    "BLUR_CADENCE = 120      # number of frames over which to blur\n",
    "XSCALE = 1280           # horizontal scale of the video frame; must be accurate!!!\n",
    "YSCALE = 720            # vertical scale of the video frame; must be accurate!!!\n",
    "FPS = 30                # FPS of incoming and outgoing video\n",
    "VLENGTH = 300           # length of one video in seconds\n",
    "video_folders = ['path_to_folder1', \\\n",
    "                 'path_to_folder2'] \\\n",
    "                  # folders (in order) where to capture and glue video from\n",
    "\n",
    "# recording the names of video files and understanding which ones to blur\n",
    "video_files = []\n",
    "blur_start = []\n",
    "blur_end = []\n",
    "for video_folder in video_folders:\n",
    "    blur = 1\n",
    "    for video_number in range (0,100,1):\n",
    "        if (video_number < 10):\n",
    "            video_name = os.path.join(video_folder,'LOCK000'+str(video_number)+'.mov')    # use any other related prefix/postfix\n",
    "        else:\n",
    "            video_name = os.path.join(video_folder,'LOCK00'+str(video_number)+'.mov')     # use any other related prefix/postfix\n",
    "        if (os.path.isfile(video_name)):\n",
    "            video_files.append(video_name)\n",
    "            blur_start.append(blur)\n",
    "            blur = 0\n",
    "        else:\n",
    "            blur = 1\n",
    "blur_end = blur_start[1:]\n",
    "blur_end.append(1)\n",
    "\n",
    "# creating the output video\n",
    "fourcc = cv2.cv.CV_FOURCC(*'XVID')\n",
    "outvideo = cv2.VideoWriter('outputvideo.avi',fourcc, FPS, (XSCALE,YSCALE))\n",
    "\n",
    "nvideos = len(video_files)\n",
    "# iterating through the recognized files\n",
    "for nvideo in range (0,nvideos,1):\n",
    "    video_file = video_files[nvideo]\n",
    "    # first, reading the incoming video to temporary array\n",
    "    arraydim = int(1.05*float(VLENGTH)*FPS/CADENCE)\n",
    "    videoarray = np.zeros([YSCALE,XSCALE,3,arraydim], dtype='uint8')\n",
    "    nframes = 0\n",
    "    nframes_orig = 0\n",
    "    cap = cv2.VideoCapture(video_file)\n",
    "    while(cap.isOpened()):\n",
    "        ret, frame = cap.read()\n",
    "        nframes_orig += 1\n",
    "        if (ret == False): break\n",
    "        if (nframes_orig % CADENCE) == 0:\n",
    "            videoarray[:,:,:,nframes] = frame\n",
    "            nframes += 1\n",
    "    cap.release()\n",
    "    videoarray = np.copy(videoarray[:,:,:,0:nframes])\n",
    "    # second, blur the array if the flags indicate so\n",
    "    if (blur_start[nvideo] == 1):\n",
    "        for i in range (0,BLUR_CADENCE,1):\n",
    "            videoarray[:,:,:,i] = (np.copy(videoarray[:,:,:,i])*float(i)/float(BLUR_CADENCE-1)).astype('uint8')\n",
    "    if (blur_end[nvideo] == 1):\n",
    "        for i in range (-1,-1*BLUR_CADENCE-1,-1):\n",
    "            videoarray[:,:,:,i] = (np.copy(videoarray[:,:,:,i])*float((-1)*i-1)/float(BLUR_CADENCE-1)).astype('uint8')\n",
    "    # third, record the array in video file\n",
    "    for i in range (0,nframes,1):\n",
    "        outvideo.write(videoarray[:,:,:,i])\n",
    "    # printing the status\n",
    "    print \"PROCESSED: \"+video_file\n",
    "\n",
    "outvideo.release()"
   ]
  },
  {
   "cell_type": "code",
   "execution_count": null,
   "metadata": {
    "collapsed": true
   },
   "outputs": [],
   "source": []
  }
 ],
 "metadata": {
  "anaconda-cloud": {},
  "kernelspec": {
   "display_name": "Python [conda root]",
   "language": "python",
   "name": "conda-root-py"
  },
  "language_info": {
   "codemirror_mode": {
    "name": "ipython",
    "version": 2
   },
   "file_extension": ".py",
   "mimetype": "text/x-python",
   "name": "python",
   "nbconvert_exporter": "python",
   "pygments_lexer": "ipython2",
   "version": "2.7.12"
  }
 },
 "nbformat": 4,
 "nbformat_minor": 1
}
