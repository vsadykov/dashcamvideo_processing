{
 "cells": [
  {
   "cell_type": "markdown",
   "metadata": {},
   "source": [
    "## 0. Loading dependences"
   ]
  },
  {
   "cell_type": "code",
   "execution_count": 1,
   "metadata": {
    "collapsed": false
   },
   "outputs": [],
   "source": [
    "import numpy as np\n",
    "import matplotlib.pyplot as plt\n",
    "import cv2\n",
    "import os"
   ]
  },
  {
   "cell_type": "markdown",
   "metadata": {},
   "source": [
    "## 1. Reading videos in folders to create output"
   ]
  },
  {
   "cell_type": "code",
   "execution_count": 2,
   "metadata": {
    "collapsed": false,
    "scrolled": false
   },
   "outputs": [],
   "source": [
    "CADENCE = 20            # cadence of new video (designed for 30fps)\n",
    "BLUR_CADENCE = 120      # number of frames over which to blur\n",
    "XSCALE = 1280           # horizontal scale of the video frame; must be accurate!!!\n",
    "YSCALE = 720            # vertical scale of the video frame; must be accurate!!!\n",
    "FPS = 30                # FPS of incoming and outgoing video\n",
    "VLENGTH = 300           # length of one video in seconds\n",
    "video_folders = ['path_to_folder1', \\\n",
    "                 'path_to_folder2'] \\\n",
    "                  # folders (in order) where to capture and glue video from\n",
    "\n",
    "# recording the names of video files and understanding which ones to blur\n",
    "video_files = []\n",
    "blur_start = []\n",
    "blur_end = []\n",
    "for video_folder in video_folders:\n",
    "    blur = 1\n",
    "    for video_number in range (0,100,1):\n",
    "        if (video_number < 10):\n",
    "            video_name = os.path.join(video_folder,'LOCK000'+str(video_number)+'.mov')    # use any other related prefix/postfix\n",
    "        else:\n",
    "            video_name = os.path.join(video_folder,'LOCK00'+str(video_number)+'.mov')     # use any other related prefix/postfix\n",
    "        if (os.path.isfile(video_name)):\n",
    "            video_files.append(video_name)\n",
    "            blur_start.append(blur)\n",
    "            blur = 0\n",
    "        else:\n",
    "            blur = 1\n",
    "blur_end = blur_start[1:]\n",
    "blur_end.append(1)\n",
    "\n",
    "# creating the output video\n",
    "fourcc = cv2.cv.CV_FOURCC(*'XVID')\n",
    "outvideo = cv2.VideoWriter('outputvideo.avi',fourcc, FPS, (XSCALE,YSCALE))\n",
    "\n",
    "nvideos = len(video_files)\n",
    "# iterating through the recognized files\n",
    "for nvideo in range (0,nvideos,1):\n",
    "    video_file = video_files[nvideo]\n",
    "    # first, reading the incoming video to temporary array\n",
    "    arraydim = int(1.05*float(VLENGTH)*FPS/CADENCE)\n",
    "    videoarray = np.zeros([YSCALE,XSCALE,3,arraydim], dtype='uint8')\n",
    "    nframes = 0\n",
    "    nframes_orig = 0\n",
    "    cap = cv2.VideoCapture(video_file)\n",
    "    while(cap.isOpened()):\n",
    "        ret, frame = cap.read()\n",
    "        nframes_orig += 1\n",
    "        if (ret == False): break\n",
    "        if (nframes_orig % CADENCE) == 0:\n",
    "            videoarray[:,:,:,nframes] = frame\n",
    "            nframes += 1\n",
    "    cap.release()\n",
    "    videoarray = np.copy(videoarray[:,:,:,0:nframes])\n",
    "    # second, blur the array if the flags indicate so\n",
    "    if (blur_start[nvideo] == 1):\n",
    "        for i in range (0,BLUR_CADENCE,1):\n",
    "            videoarray[:,:,:,i] = (np.copy(videoarray[:,:,:,i])*float(i)/float(BLUR_CADENCE-1)).astype('uint8')\n",
    "    if (blur_end[nvideo] == 1):\n",
    "        for i in range (-1,-1*BLUR_CADENCE-1,-1):\n",
    "            videoarray[:,:,:,i] = (np.copy(videoarray[:,:,:,i])*float((-1)*i-1)/float(BLUR_CADENCE-1)).astype('uint8')\n",
    "    # third, record the array in video file\n",
    "    for i in range (0,nframes,1):\n",
    "        outvideo.write(videoarray[:,:,:,i])\n",
    "    # printing the status\n",
    "    print \"PROCESSED: \"+video_file\n",
    "\n",
    "outvideo.release()"
   ]
  },
  {
   "cell_type": "code",
   "execution_count": null,
   "metadata": {
    "collapsed": true
   },
   "outputs": [],
   "source": []
  }
 ],
 "metadata": {
  "anaconda-cloud": {},
  "kernelspec": {
   "display_name": "Python [conda root]",
   "language": "python",
   "name": "conda-root-py"
  },
  "language_info": {
   "codemirror_mode": {
    "name": "ipython",
    "version": 2
   },
   "file_extension": ".py",
   "mimetype": "text/x-python",
   "name": "python",
   "nbconvert_exporter": "python",
   "pygments_lexer": "ipython2",
   "version": "2.7.12"
  }
 },
 "nbformat": 4,
 "nbformat_minor": 1
}
